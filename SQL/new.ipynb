{
 "cells": [
  {
   "cell_type": "code",
   "execution_count": 1,
   "metadata": {},
   "outputs": [],
   "source": [
    "import pandas as pd\n",
    "import mysql.connector"
   ]
  },
  {
   "cell_type": "code",
   "execution_count": null,
   "metadata": {},
   "outputs": [],
   "source": [
    "\n",
    "# # Try reading the file with 'latin1' encoding\n",
    "# df = pd.read_csv('fifa.csv', encoding='latin1')\n",
    "# df['Joined']=pd.to_datetime(df['Joined'])\n",
    "\n",
    "# # If you need to save the cleaned file in UTF-8\n",
    "# df.to_csv('fifa2.csv',index=False)"
   ]
  },
  {
   "cell_type": "code",
   "execution_count": 5,
   "metadata": {},
   "outputs": [
    {
     "name": "stdout",
     "output_type": "stream",
     "text": [
      "<mysql.connector.connection.MySQLConnection object at 0x000001E68CE86360>\n"
     ]
    }
   ],
   "source": [
    "\n",
    "# Establish the connection\n",
    "connection = mysql.connector.connect(\n",
    "    host=\"localhost\",           # e.g. \"localhost\" or an IP address\n",
    "    user=\"root\",       # your MySQL username\n",
    "    password=\"temii@123\",   # your MySQL password\n",
    "    database=\"fifa19\"    # the name of your database\n",
    ")\n",
    "\n",
    "print(connection)"
   ]
  },
  {
   "cell_type": "code",
   "execution_count": 15,
   "metadata": {},
   "outputs": [],
   "source": [
    "# !pip install --upgrade mysql-connector-python\n",
    "# !pip install --upgrade PyMySQL\n"
   ]
  }
 ],
 "metadata": {
  "kernelspec": {
   "display_name": "base",
   "language": "python",
   "name": "python3"
  },
  "language_info": {
   "codemirror_mode": {
    "name": "ipython",
    "version": 3
   },
   "file_extension": ".py",
   "mimetype": "text/x-python",
   "name": "python",
   "nbconvert_exporter": "python",
   "pygments_lexer": "ipython3",
   "version": "3.12.4"
  }
 },
 "nbformat": 4,
 "nbformat_minor": 2
}
